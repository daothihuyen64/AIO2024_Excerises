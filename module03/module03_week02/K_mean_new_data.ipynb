{
 "cells": [
  {
   "cell_type": "code",
   "execution_count": 1,
   "metadata": {},
   "outputs": [],
   "source": [
    "import numpy as np\n",
    "import matplotlib.pyplot as plt\n",
    "import pandas as pd"
   ]
  },
  {
   "cell_type": "code",
   "execution_count": 20,
   "metadata": {},
   "outputs": [
    {
     "data": {
      "text/html": [
       "<div>\n",
       "<style scoped>\n",
       "    .dataframe tbody tr th:only-of-type {\n",
       "        vertical-align: middle;\n",
       "    }\n",
       "\n",
       "    .dataframe tbody tr th {\n",
       "        vertical-align: top;\n",
       "    }\n",
       "\n",
       "    .dataframe thead th {\n",
       "        text-align: right;\n",
       "    }\n",
       "</style>\n",
       "<table border=\"1\" class=\"dataframe\">\n",
       "  <thead>\n",
       "    <tr style=\"text-align: right;\">\n",
       "      <th></th>\n",
       "      <th>Feature1</th>\n",
       "      <th>Feature2</th>\n",
       "      <th>Feature3</th>\n",
       "    </tr>\n",
       "  </thead>\n",
       "  <tbody>\n",
       "    <tr>\n",
       "      <th>0</th>\n",
       "      <td>2.0</td>\n",
       "      <td>3.0</td>\n",
       "      <td>1.5</td>\n",
       "    </tr>\n",
       "    <tr>\n",
       "      <th>1</th>\n",
       "      <td>3.0</td>\n",
       "      <td>3.5</td>\n",
       "      <td>2.0</td>\n",
       "    </tr>\n",
       "    <tr>\n",
       "      <th>2</th>\n",
       "      <td>3.5</td>\n",
       "      <td>3.0</td>\n",
       "      <td>2.5</td>\n",
       "    </tr>\n",
       "    <tr>\n",
       "      <th>3</th>\n",
       "      <td>8.0</td>\n",
       "      <td>8.0</td>\n",
       "      <td>7.5</td>\n",
       "    </tr>\n",
       "    <tr>\n",
       "      <th>4</th>\n",
       "      <td>8.5</td>\n",
       "      <td>8.5</td>\n",
       "      <td>8.0</td>\n",
       "    </tr>\n",
       "    <tr>\n",
       "      <th>5</th>\n",
       "      <td>9.0</td>\n",
       "      <td>8.0</td>\n",
       "      <td>8.5</td>\n",
       "    </tr>\n",
       "    <tr>\n",
       "      <th>6</th>\n",
       "      <td>1.0</td>\n",
       "      <td>2.0</td>\n",
       "      <td>1.0</td>\n",
       "    </tr>\n",
       "    <tr>\n",
       "      <th>7</th>\n",
       "      <td>1.5</td>\n",
       "      <td>2.5</td>\n",
       "      <td>1.5</td>\n",
       "    </tr>\n",
       "  </tbody>\n",
       "</table>\n",
       "</div>"
      ],
      "text/plain": [
       "   Feature1  Feature2  Feature3\n",
       "0       2.0       3.0       1.5\n",
       "1       3.0       3.5       2.0\n",
       "2       3.5       3.0       2.5\n",
       "3       8.0       8.0       7.5\n",
       "4       8.5       8.5       8.0\n",
       "5       9.0       8.0       8.5\n",
       "6       1.0       2.0       1.0\n",
       "7       1.5       2.5       1.5"
      ]
     },
     "execution_count": 20,
     "metadata": {},
     "output_type": "execute_result"
    }
   ],
   "source": [
    "dataset = pd.DataFrame({\"Feature1\": [2.0, 3.0, 3.5, 8.0, 8.5, 9.0, 1.0, 1.5], \"Feature2\": [\n",
    "    3.0, 3.5, 3.0, 8.0, 8.5, 8.0, 2.0, 2.5], \"Feature3\": [1.5, 2.0, 2.5, 7.5, 8.0, 8.5, 1.0, 1.5]})\n",
    "dataset"
   ]
  },
  {
   "cell_type": "code",
   "execution_count": 21,
   "metadata": {},
   "outputs": [
    {
     "name": "stdout",
     "output_type": "stream",
     "text": [
      "[[2.  3.  1.5]\n",
      " [3.  3.5 2. ]\n",
      " [3.5 3.  2.5]\n",
      " [8.  8.  7.5]\n",
      " [8.5 8.5 8. ]\n",
      " [9.  8.  8.5]\n",
      " [1.  2.  1. ]\n",
      " [1.5 2.5 1.5]]\n"
     ]
    }
   ],
   "source": [
    "data = np.array(dataset.iloc[:, :])\n",
    "print(data)"
   ]
  },
  {
   "cell_type": "code",
   "execution_count": 40,
   "metadata": {},
   "outputs": [],
   "source": [
    "class KMeans:\n",
    "    def __init__(self, k=3, max_iters=100):\n",
    "        self.k = k                   # Số cụm\n",
    "        self.max_iters = max_iters   # Số vòng lặp tối đa\n",
    "        self.centroids = None        # Tọa độ tâm cụm\n",
    "        self.clusters = None         # Cụm của từng điểm dữ liệu\n",
    "\n",
    "    def initialize_centroids(self, data):\n",
    "        np.random.seed(42)\n",
    "        self.centroids = data[np.random.choice(\n",
    "            data.shape[0], self.k, replace=False)]\n",
    "        print(f\"{self.k} centroid khởi tạo là :\\n {self.centroids}\\n\")\n",
    "\n",
    "    def euclidean_distance(self, x1, x2):\n",
    "        return np.sqrt(np.sum(np.power(x1 - x2, 2)))\n",
    "\n",
    "    def assign_clusters(self, data):\n",
    "        # Tính toán khoảng cách giữa mỗi điểm dữ liệu (data point) và tâm (centroids) bằng cách sử dụng hàm euclidean_distance\n",
    "        distances = np.array([[self.euclidean_distance(x, centroid)\n",
    "                             for centroid in self.centroids] for x in data])\n",
    "        print(np.argmin(distances, axis=1))\n",
    "        print()\n",
    "\n",
    "        return np.argmin(distances, axis=1)\n",
    "\n",
    "    def update_centroids(self, data):\n",
    "        return np.array([data[self.clusters == i].mean(axis=0) for i in range(self.k)])\n",
    "\n",
    "    def fit(self, data):\n",
    "        # Gọi tới phương thức khởi tạo ngẫu nhiên tâm cụm\n",
    "        self.initialize_centroids(data)\n",
    "\n",
    "        for i in range(self.max_iters):\n",
    "            # Gán cụm cho các data point gần nhất\n",
    "            print(f'phân cụm lần {i} ')\n",
    "            self.clusters = self.assign_clusters(data)\n",
    "\n",
    "            # Dựa vào các data point của từng cụm, dịch chuyển tâm cụm tới vị trí trung tâm (tính mean) của cụm\n",
    "            print(f\"centroid update lần {i}\")\n",
    "            new_centroids = self.update_centroids(data)\n",
    "            print(new_centroids)\n",
    "            print()\n",
    "\n",
    "            # Nếu tâm cụm không di chuyển, dừng lại\n",
    "            if np.all(self.centroids == new_centroids):\n",
    "                break\n",
    "\n",
    "            # Nếu tâm cụm có di chuyển, thực hiện lại vòng lặp với các giá trị tâm cụm mới\n",
    "            self.centroids = new_centroids"
   ]
  },
  {
   "cell_type": "code",
   "execution_count": 41,
   "metadata": {},
   "outputs": [
    {
     "name": "stdout",
     "output_type": "stream",
     "text": [
      "3 centroid khởi tạo là :\n",
      " [[3.  3.5 2. ]\n",
      " [9.  8.  8.5]\n",
      " [2.  3.  1.5]]\n",
      "\n",
      "phân cụm lần 0 \n",
      "[2 0 0 1 1 1 2 2]\n",
      "\n",
      "centroid update lần 0\n",
      "[[3.25       3.25       2.25      ]\n",
      " [8.5        8.16666667 8.        ]\n",
      " [1.5        2.5        1.33333333]]\n",
      "\n",
      "phân cụm lần 1 \n",
      "[2 0 0 1 1 1 2 2]\n",
      "\n",
      "centroid update lần 1\n",
      "[[3.25       3.25       2.25      ]\n",
      " [8.5        8.16666667 8.        ]\n",
      " [1.5        2.5        1.33333333]]\n",
      "\n"
     ]
    }
   ],
   "source": [
    "kmeans = KMeans(k=3)\n",
    "kmeans.fit(data)"
   ]
  }
 ],
 "metadata": {
  "kernelspec": {
   "display_name": "aio_2024",
   "language": "python",
   "name": "python3"
  },
  "language_info": {
   "codemirror_mode": {
    "name": "ipython",
    "version": 3
   },
   "file_extension": ".py",
   "mimetype": "text/x-python",
   "name": "python",
   "nbconvert_exporter": "python",
   "pygments_lexer": "ipython3",
   "version": "3.10.14"
  }
 },
 "nbformat": 4,
 "nbformat_minor": 2
}
