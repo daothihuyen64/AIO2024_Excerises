{
 "cells": [
  {
   "cell_type": "markdown",
   "id": "c64bd102-949c-4235-b3bd-44ea0abef404",
   "metadata": {},
   "source": [
    "### Câu 1 : Hàm thực hiện đánh giá classification model bằng F1-Score."
   ]
  },
  {
   "cell_type": "code",
   "execution_count": 10,
   "id": "9ce5cfd6-e723-401f-a5ca-9c02d9d6fd00",
   "metadata": {},
   "outputs": [],
   "source": [
    "def excercise1(tp, fp, fn):\n",
    "    if(type(tp) != int or type(fp) != int or type(fn) != int):\n",
    "        print('input must be int')\n",
    "        return\n",
    "    elif(tp <= 0 or fp <= 0 or fn <= 0):\n",
    "        print('input must be greater than zero')\n",
    "        return\n",
    "    else:\n",
    "        Precision = tp / (tp + fp)\n",
    "        Recall = tp / (tp + fn)\n",
    "        F1_score = 2 * (Precision * Recall) / (Precision + Recall)\n",
    "        print(f'Precision is : {Precision}')\n",
    "        print(f'Recall is : {Recall}')\n",
    "        print(f'F1-score is : {F1_score}')\n",
    "    return \n"
   ]
  },
  {
   "cell_type": "code",
   "execution_count": 13,
   "id": "58f2f895-229a-4efd-a417-c79448872d0d",
   "metadata": {},
   "outputs": [
    {
     "name": "stdout",
     "output_type": "stream",
     "text": [
      "Precision is : 0.4\n",
      "Recall is : 0.3333333333333333\n",
      "F1-score is : 0.3636363636363636\n",
      "\n",
      "input must be int\n",
      "\n",
      "input must be greater than zero\n"
     ]
    }
   ],
   "source": [
    "excercise1(2, 3, 4)\n",
    "print()\n",
    "excercise1(2.1, 3, 4)\n",
    "print()\n",
    "excercise1(0, 1, 2)"
   ]
  },
  {
   "cell_type": "markdown",
   "id": "8c3df8aa-a558-45ec-a54d-25b4b3d75dad",
   "metadata": {},
   "source": [
    "### Câu 2 : Hàm mô phỏng theo 3 activation function."
   ]
  },
  {
   "cell_type": "code",
   "execution_count": 95,
   "id": "bb8029f1-1920-4d05-ba66-a06b1ccef799",
   "metadata": {},
   "outputs": [],
   "source": [
    "import math \n",
    "\n",
    "def sigmoid(x):\n",
    "    return 1/(1 + math.e**(-x))\n",
    "\n",
    "def relu(x):\n",
    "    if(x <= 0):\n",
    "        return 0\n",
    "    return x\n",
    "\n",
    "def elu(x):\n",
    "    if(x > 0):\n",
    "        return x\n",
    "    return 0.01 * (math.e**x - 1)\n",
    "\n",
    "def is_number(x):\n",
    "    try:\n",
    "        float(x)\n",
    "    except ValueError:\n",
    "        return False\n",
    "    return True\n",
    "\n",
    "def excercise2(x, function):\n",
    "    if not is_number(x):\n",
    "        print('x must be a number')\n",
    "        return\n",
    "    elif(function != 'sigmoid' and function != 'relu' and function != 'elu'):\n",
    "        print(f'{function} is not supported')\n",
    "        return\n",
    "    else:\n",
    "        print(f'{function}: f({x}) = ', end = '')\n",
    "        x = float(x)\n",
    "        if(function == 'sigmoid'):\n",
    "            print(sigmoid(x))\n",
    "        elif(function == 'relu'):\n",
    "            print(relu(x))\n",
    "        else:\n",
    "            print(elu(x))\n",
    "    return\n",
    "        \n",
    "    \n",
    "    "
   ]
  },
  {
   "cell_type": "code",
   "execution_count": 33,
   "id": "0a9481cd-eeeb-42c0-952f-a47ec0cf7b06",
   "metadata": {},
   "outputs": [
    {
     "name": "stdin",
     "output_type": "stream",
     "text": [
      "hãy nhập x 3\n",
      "hãy nhập activation function elu\n"
     ]
    },
    {
     "name": "stdout",
     "output_type": "stream",
     "text": [
      "elu: f(3) = 3.0\n"
     ]
    }
   ],
   "source": [
    "x = input('hãy nhập x')\n",
    "activation_function = input('hãy nhập activation function')\n",
    "excercise2(x, activation_function)"
   ]
  },
  {
   "cell_type": "markdown",
   "id": "98c06ffe-976e-42e1-9670-fd7526098283",
   "metadata": {},
   "source": [
    "### Câu 3 : Hàm lựa chọn regression loss function để tính loss"
   ]
  },
  {
   "cell_type": "code",
   "execution_count": 75,
   "id": "0d25b8ba-8c4c-43c1-9de5-db978f3cef66",
   "metadata": {},
   "outputs": [],
   "source": [
    "import random\n",
    "\n",
    "def MSE_RMSE(x, loss_name):\n",
    "    loss_final = 0\n",
    "    for i in range(x):\n",
    "        predict = random.uniform(0,10)\n",
    "        target = random.uniform(0,10)\n",
    "        loss = (target - predict)**2\n",
    "        loss_final += loss\n",
    "        print(f'loss name {loss_name}, sample: {i}, pred: {predict}, target: {target}, loss: {loss}')\n",
    "    \n",
    "    if(loss_name == 'MSE'):\n",
    "         print(f'final {loss_name}: {loss_final / x}')\n",
    "    else:\n",
    "         print(f'final {loss_name}: {math.sqrt(loss_final / x)}')\n",
    "    return\n",
    "\n",
    "def MAE(x):\n",
    "    loss_final = 0\n",
    "    for i in range(x):\n",
    "        predict = random.uniform(0,10)\n",
    "        target = random.uniform(0,10)\n",
    "        loss = abs(target - predict)\n",
    "        loss_final += loss\n",
    "        print(f'loss name MAE, sample: {i}, pred: {predict}, target: {target}, loss: {loss}')\n",
    "\n",
    "    print(f'final MAE: {loss_final / x}')\n",
    "    return\n",
    "\n",
    "def excercise3(x, loss_name):\n",
    "    if( not x.isnumeric()):\n",
    "        print('number of samples must be an integer number')\n",
    "        return\n",
    "    else:\n",
    "        x = int(x)\n",
    "        if(loss_name == 'MSE' or loss_name == 'RMSE'):\n",
    "            MSE_RMSE(x, loss_name)\n",
    "        else:\n",
    "            MAE(x)\n",
    "    return\n",
    "            \n",
    "        "
   ]
  },
  {
   "cell_type": "code",
   "execution_count": 77,
   "id": "cc80e308-2188-47b6-a719-357e8482cb49",
   "metadata": {},
   "outputs": [
    {
     "name": "stdin",
     "output_type": "stream",
     "text": [
      "Input number of samples :  5\n",
      "Input loss name :  MAE\n"
     ]
    },
    {
     "name": "stdout",
     "output_type": "stream",
     "text": [
      "loss name MAE, sample: 0, pred: 7.818462267103071, target: 3.323006770440653, loss: 4.495455496662418\n",
      "loss name MAE, sample: 1, pred: 1.9011592273725486, target: 8.038073247881382, loss: 6.136914020508833\n",
      "loss name MAE, sample: 2, pred: 9.568737646891229, target: 5.06290518119506, loss: 4.5058324656961695\n",
      "loss name MAE, sample: 3, pred: 4.93930667444562, target: 7.702334162855271, loss: 2.7630274884096506\n",
      "loss name MAE, sample: 4, pred: 2.2711022706033166, target: 8.542126204104832, loss: 6.271023933501516\n",
      "final MAE: 4.834450680955717\n"
     ]
    }
   ],
   "source": [
    "num_samples = input('Input number of samples : ')\n",
    "loss_name = input('Input loss name : ')\n",
    "excercise3(num_samples, loss_name)\n",
    "    "
   ]
  },
  {
   "cell_type": "markdown",
   "id": "dcc8755f-fec5-433c-af75-45c274030e0d",
   "metadata": {},
   "source": [
    "### Câu 4 : 4 function để ước lượng các hàm số : sin, cos, sinh, cosh"
   ]
  },
  {
   "cell_type": "code",
   "execution_count": 82,
   "id": "aa1ed26c-7af0-4e1c-bc4b-7d00a46bdbac",
   "metadata": {},
   "outputs": [],
   "source": [
    "def giai_thua(n):\n",
    "    result = 1\n",
    "    for i in range(2, n+1):\n",
    "        result *= i\n",
    "    return result\n",
    "\n",
    "def sin(x,n):\n",
    "    sin_result = 0\n",
    "    for i in range(n+1):\n",
    "        mau_so = giai_thua(2*i + 1)\n",
    "        sin_result += ((-1)**i) * (x**(2*i+1)) / mau_so\n",
    "\n",
    "    return sin_result \n",
    "\n",
    "def cos(x,n):\n",
    "    cos_result = 0\n",
    "    for i in range(n+1):\n",
    "        mau_so = giai_thua(2*i)\n",
    "        cos_result += ((-1)**i) * (x**(2*i)) / mau_so\n",
    "\n",
    "    return cos_result \n",
    "\n",
    "def sinh(x,n):\n",
    "    sinh_result = 0\n",
    "    for i in range(n+1):\n",
    "        mau_so = giai_thua(2*i + 1)\n",
    "        sinh_result += (x**(2*i+1)) / mau_so\n",
    "\n",
    "    return sinh_result\n",
    "\n",
    "def cosh(x,n):\n",
    "    cosh_result = 0\n",
    "    for i in range(n+1):\n",
    "        mau_so = giai_thua(2*i)\n",
    "        cosh_result += (x**(2*i)) / mau_so\n",
    "\n",
    "    return cosh_result \n",
    "\n",
    "\n",
    "def excercise4(x,n):\n",
    "    if( not n.isnumeric() ):\n",
    "        print('n must be greater than 0 and integer')\n",
    "    else:\n",
    "        n = int(n)\n",
    "        x = float(x)\n",
    "        print(sin(x,n))\n",
    "        print(cos(x,n))\n",
    "        print(sinh(x,n))\n",
    "        print(cosh(x,n))\n",
    "\n",
    "    return\n",
    "    "
   ]
  },
  {
   "cell_type": "code",
   "execution_count": 88,
   "id": "00cf2005-70ea-4c51-960e-91ef6a36e917",
   "metadata": {},
   "outputs": [
    {
     "name": "stdin",
     "output_type": "stream",
     "text": [
      "Nhập số lần lặp 10\n"
     ]
    },
    {
     "name": "stdout",
     "output_type": "stream",
     "text": [
      "0.0015926529267151343\n",
      "-0.9999987316527259\n",
      "11.53029203039954\n",
      "11.573574828234543\n"
     ]
    }
   ],
   "source": [
    "n = input('Nhập số lần lặp')\n",
    "excercise4(3.14, n)"
   ]
  },
  {
   "cell_type": "markdown",
   "id": "daf1a0a5-0639-43aa-a670-de0afe3676ee",
   "metadata": {},
   "source": [
    "### Câu 5: function thực hiện Mean Difference of n^th Root Error"
   ]
  },
  {
   "cell_type": "code",
   "execution_count": 93,
   "id": "bbd833a3-349f-4ee2-977d-0504993477bc",
   "metadata": {},
   "outputs": [],
   "source": [
    "def is_number(x):\n",
    "    try:\n",
    "        float(x)\n",
    "    except ValueError:\n",
    "        return false\n",
    "    return True\n",
    "\n",
    "def excercise5(y, y_hat, n, p):\n",
    "    if(is_number(y) and is_number(y_hat) and is_number(n) and is_number(p)):\n",
    "        y = float(y)\n",
    "        y_hat = float(y_hat)\n",
    "        n = float(n)\n",
    "        p = float(p)\n",
    "        print(f'md_nre_single_sample : {(y**(1/n) - y_hat**(1/n))**p} ')\n",
    "    else:\n",
    "        print('input must be float')\n",
    "    return"
   ]
  },
  {
   "cell_type": "code",
   "execution_count": 94,
   "id": "7b0e82f0-39e4-46d2-bd0a-d32a6ba3512b",
   "metadata": {},
   "outputs": [
    {
     "name": "stdin",
     "output_type": "stream",
     "text": [
      "Nhập y 50\n",
      "Nhập y_hat 49.5\n",
      "Nhập n 2\n",
      "Nhập bậc của hàm loss 1\n"
     ]
    },
    {
     "name": "stdout",
     "output_type": "stream",
     "text": [
      "md_nre_single_sample : 0.03544417213033135 \n"
     ]
    }
   ],
   "source": [
    "y = input('Nhập y')\n",
    "y_hat = input('Nhập y_hat')\n",
    "n = input('Nhập n')\n",
    "p = input('Nhập bậc của hàm loss')\n",
    "excercise5(y, y_hat, n, p)"
   ]
  }
 ],
 "metadata": {
  "kernelspec": {
   "display_name": "Python 3 (ipykernel)",
   "language": "python",
   "name": "python3"
  },
  "language_info": {
   "codemirror_mode": {
    "name": "ipython",
    "version": 3
   },
   "file_extension": ".py",
   "mimetype": "text/x-python",
   "name": "python",
   "nbconvert_exporter": "python",
   "pygments_lexer": "ipython3",
   "version": "3.12.2"
  }
 },
 "nbformat": 4,
 "nbformat_minor": 5
}
