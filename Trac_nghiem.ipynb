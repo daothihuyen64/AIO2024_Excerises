{
 "cells": [
  {
   "cell_type": "markdown",
   "id": "bf956a04-dada-4a42-840e-1721fd3a3645",
   "metadata": {},
   "source": [
    "### Câu 1:"
   ]
  },
  {
   "cell_type": "code",
   "execution_count": 2,
   "id": "2b0f2a47-8bf2-4f71-b276-7951f1797866",
   "metadata": {},
   "outputs": [
    {
     "name": "stdout",
     "output_type": "stream",
     "text": [
      "0.31\n"
     ]
    }
   ],
   "source": [
    "import math\n",
    "def calc_f1_score ( tp , fp , fn ) :\n",
    "    if(type(tp) != int or type(fp) != int or type(fn) != int):\n",
    "        print('input must be int')\n",
    "        return None\n",
    "    elif(tp <= 0 or fp <= 0 or fn <= 0):\n",
    "        print('input must be greater than zero')\n",
    "        return None\n",
    "    else:\n",
    "        Precision = tp / (tp + fp)\n",
    "        Recall = tp / (tp + fn)\n",
    "        F1_score = 2 * (Precision * Recall) / (Precision + Recall)\n",
    "    return F1_score\n",
    "\n",
    "assert round ( calc_f1_score ( tp =2 , fp =3 , fn =5) , 2) == 0.33\n",
    "print ( round ( calc_f1_score ( tp =2 , fp =4 , fn =5) , 2) )"
   ]
  },
  {
   "cell_type": "markdown",
   "id": "8aa13c0e-a9bd-439e-9f71-995f0f7b0d9d",
   "metadata": {},
   "source": [
    "### Câu 2:"
   ]
  },
  {
   "cell_type": "code",
   "execution_count": 3,
   "id": "a22e10a1-3787-458b-9f10-7230a84c07b1",
   "metadata": {},
   "outputs": [],
   "source": [
    "def is_number(x):\n",
    "    try:\n",
    "        float(x)\n",
    "    except ValueError:\n",
    "        return False\n",
    "    return True\n"
   ]
  },
  {
   "cell_type": "code",
   "execution_count": 4,
   "id": "2d23e162-fc6c-4d38-95fd-332ad65cc998",
   "metadata": {},
   "outputs": [
    {
     "name": "stdout",
     "output_type": "stream",
     "text": [
      "True\n",
      "False\n"
     ]
    }
   ],
   "source": [
    "assert is_number(3) == 1.0\n",
    "assert is_number('-2a') == 0.0\n",
    "print(is_number(1))\n",
    "print(is_number('n'))"
   ]
  },
  {
   "cell_type": "markdown",
   "id": "53ea16e5-0b6a-4423-acb1-1624b817639d",
   "metadata": {},
   "source": [
    "### Câu 4: "
   ]
  },
  {
   "cell_type": "code",
   "execution_count": 5,
   "id": "b1c20bbf-166e-4b33-ae00-196281e5ded3",
   "metadata": {},
   "outputs": [
    {
     "name": "stdout",
     "output_type": "stream",
     "text": [
      "0.88\n"
     ]
    }
   ],
   "source": [
    "import math\n",
    "def calc_sig (x):\n",
    "    return 1/(1 + math.e**(-x))\n",
    "assert round ( calc_sig (3) , 2) == 0.95\n",
    "print ( round ( calc_sig (2) , 2) )"
   ]
  },
  {
   "cell_type": "markdown",
   "id": "bccc726a-b531-4d0a-ab31-6c99ce02fdf1",
   "metadata": {},
   "source": [
    "### Câu 5:"
   ]
  },
  {
   "cell_type": "code",
   "execution_count": 6,
   "id": "2c212c8a-8164-401f-adce-804b94c0f6df",
   "metadata": {},
   "outputs": [
    {
     "name": "stdout",
     "output_type": "stream",
     "text": [
      "-0.01\n"
     ]
    }
   ],
   "source": [
    "import math\n",
    "def calc_elu ( x ) :\n",
    "    if(x > 0):\n",
    "        return x\n",
    "    return 0.01 * (math.e**x - 1)\n",
    "    \n",
    "assert round ( calc_elu (1) ) == 1\n",
    "print ( round ( calc_elu ( -1) , 2) )"
   ]
  },
  {
   "cell_type": "markdown",
   "id": "5c0bdfec-fc8d-4463-b533-14a392a3d5e0",
   "metadata": {},
   "source": [
    "### Câu 6:"
   ]
  },
  {
   "cell_type": "code",
   "execution_count": 8,
   "id": "166c2fb8-3726-4967-86e1-058ba2ba8486",
   "metadata": {},
   "outputs": [
    {
     "name": "stdout",
     "output_type": "stream",
     "text": [
      "0.95\n"
     ]
    }
   ],
   "source": [
    "import math\n",
    "\n",
    "def sigmoid(x):\n",
    "    return 1/(1 + math.e**(-x))\n",
    "\n",
    "def relu(x):\n",
    "    if(x <= 0):\n",
    "        return 0\n",
    "    return x\n",
    "\n",
    "def elu(x):\n",
    "    if(x > 0):\n",
    "        return x\n",
    "    return 0.01 * (math.e**x - 1)\n",
    "\n",
    "def is_number(x):\n",
    "    try:\n",
    "        float(x)\n",
    "    except ValueError:\n",
    "        return False\n",
    "    return True\n",
    "\n",
    "def calc_activation_func (x , act_name ) :\n",
    "    if not is_number(x):\n",
    "        print('x must be a number')\n",
    "        return None\n",
    "    elif(act_name != 'sigmoid' and act_name != 'relu' and act_name != 'elu'):\n",
    "        print(f'{act_name} is not supported')\n",
    "        return None\n",
    "    else:\n",
    "        x = float(x)\n",
    "        if(act_name == 'sigmoid'):\n",
    "            return sigmoid(x) \n",
    "        elif(act_name == 'relu'):\n",
    "            return relu(x)\n",
    "        else:\n",
    "            return elu(x)\n",
    "    \n",
    "assert calc_activation_func ( x = 1 , act_name = 'relu') == 1\n",
    "print ( round ( calc_activation_func (x = 3 , act_name = 'sigmoid') , 2) )"
   ]
  },
  {
   "cell_type": "markdown",
   "id": "9fc11049-da25-44dc-b63d-4082967ffc2a",
   "metadata": {},
   "source": [
    "### Câu 7:"
   ]
  },
  {
   "cell_type": "code",
   "execution_count": 9,
   "id": "ad93855e-3927-474d-a906-91090f73d289",
   "metadata": {},
   "outputs": [
    {
     "name": "stdout",
     "output_type": "stream",
     "text": [
      "7\n"
     ]
    }
   ],
   "source": [
    "def calc_ae (y , y_hat ) :\n",
    "    return abs(y - y_hat)\n",
    "    \n",
    "y = 1\n",
    "y_hat = 6\n",
    "assert calc_ae (y , y_hat ) == 5\n",
    "y = 2\n",
    "y_hat = 9\n",
    "print ( calc_ae (y , y_hat ) )"
   ]
  },
  {
   "cell_type": "markdown",
   "id": "2201418d-e506-4552-81fd-fe2e84f2d25e",
   "metadata": {},
   "source": [
    "### Câu 8:"
   ]
  },
  {
   "cell_type": "code",
   "execution_count": 10,
   "id": "0d638954-2d0e-44ef-99b8-723208e6bd49",
   "metadata": {},
   "outputs": [
    {
     "name": "stdout",
     "output_type": "stream",
     "text": [
      "1\n"
     ]
    }
   ],
   "source": [
    "def calc_se (y , y_hat ) :\n",
    "    return (y - y_hat)**2\n",
    "y = 4\n",
    "y_hat = 2\n",
    "assert calc_se (y , y_hat ) == 4\n",
    "print ( calc_se (2 , 1) )"
   ]
  },
  {
   "cell_type": "markdown",
   "id": "dc5d4a11-4f4b-46e4-96bc-e6160aa27ea2",
   "metadata": {},
   "source": [
    "### Câu 9:"
   ]
  },
  {
   "cell_type": "code",
   "execution_count": 11,
   "id": "2bb6444c-848e-4df5-a2e4-6b331aaf2bfb",
   "metadata": {},
   "outputs": [
    {
     "name": "stdout",
     "output_type": "stream",
     "text": [
      "-1.0\n"
     ]
    }
   ],
   "source": [
    "def giai_thua(n):\n",
    "    result = 1\n",
    "    for i in range(2, n+1):\n",
    "        result *= i\n",
    "    return result\n",
    "\n",
    "def approx_cos (x , n ) :\n",
    "    cos_result = 0\n",
    "    for i in range(n+1):\n",
    "        mau_so = giai_thua(2*i)\n",
    "        cos_result += ((-1)**i) * (x**(2*i)) / mau_so\n",
    "\n",
    "    return cos_result\n",
    "\n",
    "assert round ( approx_cos ( x =1 , n = 10) , 2) == 0.54\n",
    "print ( round ( approx_cos ( x =3.14 , n =10) , 2) )"
   ]
  },
  {
   "cell_type": "markdown",
   "id": "c50ac8e7-92eb-4fc9-b316-19ef5efe643a",
   "metadata": {},
   "source": [
    "### Câu 10:"
   ]
  },
  {
   "cell_type": "code",
   "execution_count": 12,
   "id": "7e429583-ee64-4218-8b4f-a94ce7058272",
   "metadata": {},
   "outputs": [
    {
     "name": "stdout",
     "output_type": "stream",
     "text": [
      "0.0016\n"
     ]
    }
   ],
   "source": [
    "def giai_thua(n):\n",
    "    result = 1\n",
    "    for i in range(2, n+1):\n",
    "        result *= i\n",
    "    return result\n",
    "    \n",
    "def approx_sin (x , n ) :\n",
    "    sin_result = 0\n",
    "    for i in range(n+1):\n",
    "        mau_so = giai_thua(2*i + 1)\n",
    "        sin_result += ((-1)**i) * (x**(2*i+1)) / mau_so\n",
    "\n",
    "    return sin_result \n",
    "    \n",
    "assert round ( approx_sin ( x =1 , n =10) , 4) == 0.8415\n",
    "print ( round ( approx_sin ( x =3.14 , n =10) , 4) )"
   ]
  },
  {
   "cell_type": "markdown",
   "id": "9ee2eecb-3edb-476e-81e4-e3d11a921c38",
   "metadata": {},
   "source": [
    "### Câu 11:"
   ]
  },
  {
   "cell_type": "code",
   "execution_count": 13,
   "id": "1c57e627-2e76-4d96-b312-4202fa565235",
   "metadata": {},
   "outputs": [
    {
     "name": "stdout",
     "output_type": "stream",
     "text": [
      "11.53\n"
     ]
    }
   ],
   "source": [
    "def giai_thua(n):\n",
    "    result = 1\n",
    "    for i in range(2, n+1):\n",
    "        result *= i\n",
    "    return result\n",
    "\n",
    "def approx_sinh(x , n):\n",
    "    sinh_result = 0\n",
    "    for i in range(n+1):\n",
    "        mau_so = giai_thua(2*i + 1)\n",
    "        sinh_result += (x**(2*i+1)) / mau_so\n",
    "\n",
    "    return sinh_result\n",
    " \n",
    "assert round ( approx_sinh ( x =1 , n =10) , 2) == 1.18\n",
    "print ( round ( approx_sinh ( x =3.14 , n =10) , 2) )"
   ]
  },
  {
   "cell_type": "markdown",
   "id": "f4aed749-4ec8-48db-b557-0e3caa469822",
   "metadata": {},
   "source": [
    "### Câu 12:"
   ]
  },
  {
   "cell_type": "code",
   "execution_count": 14,
   "id": "cec38748-d3cd-4f94-8e3e-827db50356cc",
   "metadata": {},
   "outputs": [
    {
     "name": "stdout",
     "output_type": "stream",
     "text": [
      "11.57\n"
     ]
    }
   ],
   "source": [
    "def giai_thua(n):\n",
    "    result = 1\n",
    "    for i in range(2, n+1):\n",
    "        result *= i\n",
    "    return result\n",
    "\n",
    "def approx_cosh (x , n ) :\n",
    "    cosh_result = 0\n",
    "    for i in range(n+1):\n",
    "        mau_so = giai_thua(2*i)\n",
    "        cosh_result += (x**(2*i)) / mau_so\n",
    "\n",
    "    return cosh_result \n",
    "assert round ( approx_cosh ( x =1 , n =10) , 2) ==1.54\n",
    "print ( round ( approx_cosh ( x =3.14 , n =10) , 2) )"
   ]
  }
 ],
 "metadata": {
  "kernelspec": {
   "display_name": "Python 3 (ipykernel)",
   "language": "python",
   "name": "python3"
  },
  "language_info": {
   "codemirror_mode": {
    "name": "ipython",
    "version": 3
   },
   "file_extension": ".py",
   "mimetype": "text/x-python",
   "name": "python",
   "nbconvert_exporter": "python",
   "pygments_lexer": "ipython3",
   "version": "3.12.2"
  }
 },
 "nbformat": 4,
 "nbformat_minor": 5
}
