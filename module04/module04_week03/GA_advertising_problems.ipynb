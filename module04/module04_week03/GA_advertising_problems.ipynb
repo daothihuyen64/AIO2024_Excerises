{
 "cells": [
  {
   "cell_type": "code",
   "execution_count": 1,
   "metadata": {},
   "outputs": [],
   "source": [
    "import numpy as np\n",
    "import matplotlib.pyplot as plt\n",
    "import random"
   ]
  },
  {
   "cell_type": "markdown",
   "metadata": {},
   "source": [
    "## Load data from file"
   ]
  },
  {
   "cell_type": "code",
   "execution_count": 2,
   "metadata": {},
   "outputs": [],
   "source": [
    "random.seed(0)\n",
    "\n",
    "\n",
    "def load_data_from_file(fileName=\"advertising.csv\"):\n",
    "    data = np.genfromtxt(fileName, dtype=None, delimiter=',', skip_header=1)\n",
    "    features_X = data[:, :3]\n",
    "    sales_Y = data[:, 3]\n",
    "    n = len(features_X)\n",
    "    features_X = np.c_[np.ones((n, 1)), features_X]\n",
    "    return features_X, sales_Y"
   ]
  },
  {
   "cell_type": "code",
   "execution_count": 3,
   "metadata": {},
   "outputs": [
    {
     "name": "stdout",
     "output_type": "stream",
     "text": [
      "[[  1.  230.1  37.8  69.2]\n",
      " [  1.   44.5  39.3  45.1]\n",
      " [  1.   17.2  45.9  69.3]\n",
      " [  1.  151.5  41.3  58.5]\n",
      " [  1.  180.8  10.8  58.4]]\n"
     ]
    }
   ],
   "source": [
    "features_X, _ = load_data_from_file()\n",
    "print(features_X[:5, :])"
   ]
  },
  {
   "cell_type": "code",
   "execution_count": 4,
   "metadata": {},
   "outputs": [
    {
     "name": "stdout",
     "output_type": "stream",
     "text": [
      "(200,)\n"
     ]
    }
   ],
   "source": [
    "_, sales_Y = load_data_from_file()\n",
    "print(sales_Y.shape)"
   ]
  },
  {
   "cell_type": "markdown",
   "metadata": {},
   "source": [
    "## Create individual\n"
   ]
  },
  {
   "cell_type": "code",
   "execution_count": 5,
   "metadata": {},
   "outputs": [
    {
     "name": "stdout",
     "output_type": "stream",
     "text": [
      "[3.444218515250481, 2.5795440294030247, -0.79428419169155, -2.4108324970703663]\n"
     ]
    }
   ],
   "source": [
    "def create_individual(n=4, bound=10):\n",
    "    individual = []\n",
    "    for _ in range(4):\n",
    "        individual.append((random.random() - 0.5)*bound)\n",
    "    return individual\n",
    "\n",
    "\n",
    "individual = create_individual()\n",
    "print(individual)"
   ]
  },
  {
   "cell_type": "markdown",
   "metadata": {},
   "source": [
    "## Compute fitness"
   ]
  },
  {
   "cell_type": "code",
   "execution_count": 6,
   "metadata": {},
   "outputs": [],
   "source": [
    "features_X, sales_Y = load_data_from_file()\n",
    "\n",
    "\n",
    "def compute_loss(individual):\n",
    "    theta = np.array(individual)\n",
    "    y_hat = features_X.dot(theta)\n",
    "    loss = np.multiply((y_hat - sales_Y), (y_hat - sales_Y)).mean()\n",
    "    return loss\n",
    "\n",
    "\n",
    "def compute_fitness(individual):\n",
    "    loss = compute_loss(individual)\n",
    "    fitness_value = 0\n",
    "    fitness_value = 1/(loss + 1)\n",
    "    return fitness_value"
   ]
  },
  {
   "cell_type": "code",
   "execution_count": 7,
   "metadata": {},
   "outputs": [
    {
     "name": "stdout",
     "output_type": "stream",
     "text": [
      "1.0185991537088997e-06\n"
     ]
    }
   ],
   "source": [
    "features_X, sales_Y = load_data_from_file()\n",
    "individual = [4.09, 4.82, 3.10, 4.02]\n",
    "fitness_score = compute_fitness(individual)\n",
    "print(fitness_score)"
   ]
  },
  {
   "cell_type": "markdown",
   "metadata": {},
   "source": [
    "## CrossOver"
   ]
  },
  {
   "cell_type": "code",
   "execution_count": 8,
   "metadata": {},
   "outputs": [],
   "source": [
    "def crossover(individual1, individual2, crossover_rate=0.9):\n",
    "    individual1_new = individual1.copy()\n",
    "    individual2_new = individual2.copy()\n",
    "    n = len(individual1_new)\n",
    "    for i in range(n):\n",
    "        xs = random.random()\n",
    "        if (xs < crossover_rate):\n",
    "            individual1_new[i], individual2_new[i] = individual2_new[i], individual1_new[i]\n",
    "    return individual1_new, individual2_new"
   ]
  },
  {
   "cell_type": "code",
   "execution_count": 9,
   "metadata": {},
   "outputs": [
    {
     "name": "stdout",
     "output_type": "stream",
     "text": [
      " individual1 :  [3.44, 2.57, -0.79, -2.41]\n",
      " individual2 :  [4.09, 4.82, 3.1, 4.02]\n"
     ]
    }
   ],
   "source": [
    "individual1 = [4.09, 4.82, 3.10, 4.02]\n",
    "individual2 = [3.44, 2.57, -0.79, -2.41]\n",
    "individual1, individual2 = crossover(individual1, individual2, 2.0)\n",
    "print(\" individual1 : \", individual1)\n",
    "print(\" individual2 : \", individual2)"
   ]
  },
  {
   "cell_type": "markdown",
   "metadata": {},
   "source": [
    "## Mutation"
   ]
  },
  {
   "cell_type": "code",
   "execution_count": 10,
   "metadata": {},
   "outputs": [],
   "source": [
    "def mutate(individual, mutation_rate=0.05):\n",
    "    individual_m = individual.copy()\n",
    "    n = len(individual_m)\n",
    "    for i in range(n):\n",
    "        if np.random.rand() < mutation_rate:\n",
    "            individual_m[i] = (random.random() - 0.5)*10\n",
    "\n",
    "    return individual_m"
   ]
  },
  {
   "cell_type": "code",
   "execution_count": 11,
   "metadata": {},
   "outputs": [
    {
     "name": "stdout",
     "output_type": "stream",
     "text": [
      "False\n"
     ]
    }
   ],
   "source": [
    "before_individual = [4.09, 4.82, 3.10, 4.02]\n",
    "after_individual = mutate(individual, mutation_rate=2.0)\n",
    "print(before_individual == after_individual)"
   ]
  },
  {
   "cell_type": "markdown",
   "metadata": {},
   "source": [
    "## Initialize Population "
   ]
  },
  {
   "cell_type": "code",
   "execution_count": 12,
   "metadata": {},
   "outputs": [],
   "source": [
    "def initializePopulation(m):\n",
    "    population = [create_individual() for _ in range(m)]\n",
    "    return population"
   ]
  },
  {
   "cell_type": "markdown",
   "metadata": {},
   "source": [
    "## Selection"
   ]
  },
  {
   "cell_type": "code",
   "execution_count": 13,
   "metadata": {},
   "outputs": [],
   "source": [
    "def selection(sorted_old_population, m=100):\n",
    "    index1 = random.randint(0, m - 1)\n",
    "    while True:\n",
    "        index2 = random.randint(0, m - 1)\n",
    "        if (index2 != index1):\n",
    "            break\n",
    "    individual_s = sorted_old_population[index1]\n",
    "    if index2 > index1:\n",
    "        individual_s = sorted_old_population[index2]\n",
    "    return individual_s"
   ]
  },
  {
   "cell_type": "markdown",
   "metadata": {},
   "source": [
    "## New population"
   ]
  },
  {
   "cell_type": "code",
   "execution_count": 20,
   "metadata": {},
   "outputs": [],
   "source": [
    "def create_new_population(old_population, elitism=2, gen=1):\n",
    "    m = len(old_population)\n",
    "    sorted_population = sorted(old_population, key=compute_fitness)\n",
    "\n",
    "    if gen % 1 == 0:\n",
    "        print(\" Best loss :\", compute_loss(sorted_population[m - 1]), \" with chromsome : \",\n",
    "              sorted_population[m - 1])\n",
    "\n",
    "    new_population = []\n",
    "    while len(new_population) < m - elitism:\n",
    "        # selection\n",
    "        individual_s1 = selection(sorted_population[:m - elitism])\n",
    "        individual_s2 = selection(sorted_population[:m - elitism])\n",
    "        # crossover\n",
    "        individual1_new, individual2_new = crossover(\n",
    "            individual_s1, individual_s2)\n",
    "        # mutation\n",
    "        individual_m1 = mutate(individual1_new)\n",
    "        individual_m2 = mutate(individual2_new)\n",
    "        new_population.append(individual_m1)\n",
    "        new_population.append(individual_m2)\n",
    "        # copy elitism chromosomes that have best fitness score to the next generation\n",
    "    for ind in sorted_population[m - elitism:]:\n",
    "        new_population.append(ind)\n",
    "    return new_population, compute_loss(sorted_population[m - 1])"
   ]
  },
  {
   "cell_type": "code",
   "execution_count": 21,
   "metadata": {},
   "outputs": [
    {
     "name": "stdout",
     "output_type": "stream",
     "text": [
      " Best loss : 123415.051528805  with chromsome :  [3.44, 2.57, -0.79, -2.41]\n"
     ]
    }
   ],
   "source": [
    "individual1 = [4.09, 4.82, 3.10, 4.02]\n",
    "individual2 = [3.44, 2.57, -0.79, -2.41]\n",
    "old_population = [individual1, individual2]\n",
    "new_population, _ = create_new_population(old_population, elitism=2, gen=1)"
   ]
  },
  {
   "cell_type": "code",
   "execution_count": 25,
   "metadata": {},
   "outputs": [],
   "source": [
    "def run_GA():\n",
    "    n_generations = 100\n",
    "    m = 600  # số cá thể\n",
    "    features_X, sales_Y = load_data_from_file()\n",
    "    population = initializePopulation(m)\n",
    "    losses_list = []\n",
    "    for i in range(n_generations):\n",
    "        new_population, best_loss = create_new_population(\n",
    "            population, elitism=2, gen=i)\n",
    "        population = new_population\n",
    "        losses_list.append(best_loss)\n",
    "    return losses_list"
   ]
  },
  {
   "cell_type": "code",
   "execution_count": 26,
   "metadata": {},
   "outputs": [
    {
     "name": "stdout",
     "output_type": "stream",
     "text": [
      " Best loss : 338.5830728528874  with chromsome :  [-4.560304624939051, -0.08398728485923601, 0.48103859872958843, 0.4625002225048469]\n",
      " Best loss : 338.5830728528874  with chromsome :  [-4.560304624939051, -0.08398728485923601, 0.48103859872958843, 0.4625002225048469]\n",
      " Best loss : 338.5830728528874  with chromsome :  [-4.560304624939051, -0.08398728485923601, 0.48103859872958843, 0.4625002225048469]\n",
      " Best loss : 338.5830728528874  with chromsome :  [-4.560304624939051, -0.08398728485923601, 0.48103859872958843, 0.4625002225048469]\n",
      " Best loss : 338.5830728528874  with chromsome :  [-4.560304624939051, -0.08398728485923601, 0.48103859872958843, 0.4625002225048469]\n",
      " Best loss : 338.5830728528874  with chromsome :  [-4.560304624939051, -0.08398728485923601, 0.48103859872958843, 0.4625002225048469]\n",
      " Best loss : 338.5830728528874  with chromsome :  [-4.560304624939051, -0.08398728485923601, 0.48103859872958843, 0.4625002225048469]\n",
      " Best loss : 338.5830728528874  with chromsome :  [-4.560304624939051, -0.08398728485923601, 0.48103859872958843, 0.4625002225048469]\n",
      " Best loss : 338.5830728528874  with chromsome :  [-4.560304624939051, -0.08398728485923601, 0.48103859872958843, 0.4625002225048469]\n",
      " Best loss : 338.5830728528874  with chromsome :  [-4.560304624939051, -0.08398728485923601, 0.48103859872958843, 0.4625002225048469]\n",
      " Best loss : 338.5830728528874  with chromsome :  [-4.560304624939051, -0.08398728485923601, 0.48103859872958843, 0.4625002225048469]\n",
      " Best loss : 338.5830728528874  with chromsome :  [-4.560304624939051, -0.08398728485923601, 0.48103859872958843, 0.4625002225048469]\n",
      " Best loss : 338.5830728528874  with chromsome :  [-4.560304624939051, -0.08398728485923601, 0.48103859872958843, 0.4625002225048469]\n",
      " Best loss : 338.5830728528874  with chromsome :  [-4.560304624939051, -0.08398728485923601, 0.48103859872958843, 0.4625002225048469]\n",
      " Best loss : 338.5830728528874  with chromsome :  [-4.560304624939051, -0.08398728485923601, 0.48103859872958843, 0.4625002225048469]\n",
      " Best loss : 338.5830728528874  with chromsome :  [-4.560304624939051, -0.08398728485923601, 0.48103859872958843, 0.4625002225048469]\n",
      " Best loss : 338.5830728528874  with chromsome :  [-4.560304624939051, -0.08398728485923601, 0.48103859872958843, 0.4625002225048469]\n",
      " Best loss : 338.5830728528874  with chromsome :  [-4.560304624939051, -0.08398728485923601, 0.48103859872958843, 0.4625002225048469]\n",
      " Best loss : 338.5830728528874  with chromsome :  [-4.560304624939051, -0.08398728485923601, 0.48103859872958843, 0.4625002225048469]\n",
      " Best loss : 338.5830728528874  with chromsome :  [-4.560304624939051, -0.08398728485923601, 0.48103859872958843, 0.4625002225048469]\n",
      " Best loss : 338.5830728528874  with chromsome :  [-4.560304624939051, -0.08398728485923601, 0.48103859872958843, 0.4625002225048469]\n",
      " Best loss : 338.5830728528874  with chromsome :  [-4.560304624939051, -0.08398728485923601, 0.48103859872958843, 0.4625002225048469]\n",
      " Best loss : 338.5830728528874  with chromsome :  [-4.560304624939051, -0.08398728485923601, 0.48103859872958843, 0.4625002225048469]\n",
      " Best loss : 338.5830728528874  with chromsome :  [-4.560304624939051, -0.08398728485923601, 0.48103859872958843, 0.4625002225048469]\n",
      " Best loss : 338.5830728528874  with chromsome :  [-4.560304624939051, -0.08398728485923601, 0.48103859872958843, 0.4625002225048469]\n",
      " Best loss : 338.5830728528874  with chromsome :  [-4.560304624939051, -0.08398728485923601, 0.48103859872958843, 0.4625002225048469]\n",
      " Best loss : 338.5830728528874  with chromsome :  [-4.560304624939051, -0.08398728485923601, 0.48103859872958843, 0.4625002225048469]\n",
      " Best loss : 338.5830728528874  with chromsome :  [-4.560304624939051, -0.08398728485923601, 0.48103859872958843, 0.4625002225048469]\n",
      " Best loss : 338.5830728528874  with chromsome :  [-4.560304624939051, -0.08398728485923601, 0.48103859872958843, 0.4625002225048469]\n",
      " Best loss : 338.5830728528874  with chromsome :  [-4.560304624939051, -0.08398728485923601, 0.48103859872958843, 0.4625002225048469]\n",
      " Best loss : 338.5830728528874  with chromsome :  [-4.560304624939051, -0.08398728485923601, 0.48103859872958843, 0.4625002225048469]\n",
      " Best loss : 338.5830728528874  with chromsome :  [-4.560304624939051, -0.08398728485923601, 0.48103859872958843, 0.4625002225048469]\n",
      " Best loss : 338.5830728528874  with chromsome :  [-4.560304624939051, -0.08398728485923601, 0.48103859872958843, 0.4625002225048469]\n",
      " Best loss : 338.5830728528874  with chromsome :  [-4.560304624939051, -0.08398728485923601, 0.48103859872958843, 0.4625002225048469]\n",
      " Best loss : 338.5830728528874  with chromsome :  [-4.560304624939051, -0.08398728485923601, 0.48103859872958843, 0.4625002225048469]\n",
      " Best loss : 338.5830728528874  with chromsome :  [-4.560304624939051, -0.08398728485923601, 0.48103859872958843, 0.4625002225048469]\n",
      " Best loss : 338.5830728528874  with chromsome :  [-4.560304624939051, -0.08398728485923601, 0.48103859872958843, 0.4625002225048469]\n",
      " Best loss : 338.5830728528874  with chromsome :  [-4.560304624939051, -0.08398728485923601, 0.48103859872958843, 0.4625002225048469]\n",
      " Best loss : 338.5830728528874  with chromsome :  [-4.560304624939051, -0.08398728485923601, 0.48103859872958843, 0.4625002225048469]\n",
      " Best loss : 338.5830728528874  with chromsome :  [-4.560304624939051, -0.08398728485923601, 0.48103859872958843, 0.4625002225048469]\n",
      " Best loss : 338.5830728528874  with chromsome :  [-4.560304624939051, -0.08398728485923601, 0.48103859872958843, 0.4625002225048469]\n",
      " Best loss : 338.5830728528874  with chromsome :  [-4.560304624939051, -0.08398728485923601, 0.48103859872958843, 0.4625002225048469]\n",
      " Best loss : 338.5830728528874  with chromsome :  [-4.560304624939051, -0.08398728485923601, 0.48103859872958843, 0.4625002225048469]\n",
      " Best loss : 338.5830728528874  with chromsome :  [-4.560304624939051, -0.08398728485923601, 0.48103859872958843, 0.4625002225048469]\n",
      " Best loss : 338.5830728528874  with chromsome :  [-4.560304624939051, -0.08398728485923601, 0.48103859872958843, 0.4625002225048469]\n",
      " Best loss : 338.5830728528874  with chromsome :  [-4.560304624939051, -0.08398728485923601, 0.48103859872958843, 0.4625002225048469]\n",
      " Best loss : 338.5830728528874  with chromsome :  [-4.560304624939051, -0.08398728485923601, 0.48103859872958843, 0.4625002225048469]\n",
      " Best loss : 338.5830728528874  with chromsome :  [-4.560304624939051, -0.08398728485923601, 0.48103859872958843, 0.4625002225048469]\n",
      " Best loss : 338.5830728528874  with chromsome :  [-4.560304624939051, -0.08398728485923601, 0.48103859872958843, 0.4625002225048469]\n",
      " Best loss : 338.5830728528874  with chromsome :  [-4.560304624939051, -0.08398728485923601, 0.48103859872958843, 0.4625002225048469]\n",
      " Best loss : 338.5830728528874  with chromsome :  [-4.560304624939051, -0.08398728485923601, 0.48103859872958843, 0.4625002225048469]\n",
      " Best loss : 338.5830728528874  with chromsome :  [-4.560304624939051, -0.08398728485923601, 0.48103859872958843, 0.4625002225048469]\n",
      " Best loss : 338.5830728528874  with chromsome :  [-4.560304624939051, -0.08398728485923601, 0.48103859872958843, 0.4625002225048469]\n",
      " Best loss : 338.5830728528874  with chromsome :  [-4.560304624939051, -0.08398728485923601, 0.48103859872958843, 0.4625002225048469]\n",
      " Best loss : 338.5830728528874  with chromsome :  [-4.560304624939051, -0.08398728485923601, 0.48103859872958843, 0.4625002225048469]\n",
      " Best loss : 338.5830728528874  with chromsome :  [-4.560304624939051, -0.08398728485923601, 0.48103859872958843, 0.4625002225048469]\n",
      " Best loss : 338.5830728528874  with chromsome :  [-4.560304624939051, -0.08398728485923601, 0.48103859872958843, 0.4625002225048469]\n",
      " Best loss : 338.5830728528874  with chromsome :  [-4.560304624939051, -0.08398728485923601, 0.48103859872958843, 0.4625002225048469]\n",
      " Best loss : 338.5830728528874  with chromsome :  [-4.560304624939051, -0.08398728485923601, 0.48103859872958843, 0.4625002225048469]\n",
      " Best loss : 338.5830728528874  with chromsome :  [-4.560304624939051, -0.08398728485923601, 0.48103859872958843, 0.4625002225048469]\n",
      " Best loss : 338.5830728528874  with chromsome :  [-4.560304624939051, -0.08398728485923601, 0.48103859872958843, 0.4625002225048469]\n",
      " Best loss : 338.5830728528874  with chromsome :  [-4.560304624939051, -0.08398728485923601, 0.48103859872958843, 0.4625002225048469]\n",
      " Best loss : 338.5830728528874  with chromsome :  [-4.560304624939051, -0.08398728485923601, 0.48103859872958843, 0.4625002225048469]\n",
      " Best loss : 338.5830728528874  with chromsome :  [-4.560304624939051, -0.08398728485923601, 0.48103859872958843, 0.4625002225048469]\n",
      " Best loss : 338.5830728528874  with chromsome :  [-4.560304624939051, -0.08398728485923601, 0.48103859872958843, 0.4625002225048469]\n",
      " Best loss : 338.5830728528874  with chromsome :  [-4.560304624939051, -0.08398728485923601, 0.48103859872958843, 0.4625002225048469]\n",
      " Best loss : 338.5830728528874  with chromsome :  [-4.560304624939051, -0.08398728485923601, 0.48103859872958843, 0.4625002225048469]\n",
      " Best loss : 338.5830728528874  with chromsome :  [-4.560304624939051, -0.08398728485923601, 0.48103859872958843, 0.4625002225048469]\n",
      " Best loss : 338.5830728528874  with chromsome :  [-4.560304624939051, -0.08398728485923601, 0.48103859872958843, 0.4625002225048469]\n",
      " Best loss : 338.5830728528874  with chromsome :  [-4.560304624939051, -0.08398728485923601, 0.48103859872958843, 0.4625002225048469]\n",
      " Best loss : 338.5830728528874  with chromsome :  [-4.560304624939051, -0.08398728485923601, 0.48103859872958843, 0.4625002225048469]\n",
      " Best loss : 338.5830728528874  with chromsome :  [-4.560304624939051, -0.08398728485923601, 0.48103859872958843, 0.4625002225048469]\n",
      " Best loss : 338.5830728528874  with chromsome :  [-4.560304624939051, -0.08398728485923601, 0.48103859872958843, 0.4625002225048469]\n",
      " Best loss : 338.5830728528874  with chromsome :  [-4.560304624939051, -0.08398728485923601, 0.48103859872958843, 0.4625002225048469]\n",
      " Best loss : 338.5830728528874  with chromsome :  [-4.560304624939051, -0.08398728485923601, 0.48103859872958843, 0.4625002225048469]\n",
      " Best loss : 338.5830728528874  with chromsome :  [-4.560304624939051, -0.08398728485923601, 0.48103859872958843, 0.4625002225048469]\n",
      " Best loss : 338.5830728528874  with chromsome :  [-4.560304624939051, -0.08398728485923601, 0.48103859872958843, 0.4625002225048469]\n",
      " Best loss : 338.5830728528874  with chromsome :  [-4.560304624939051, -0.08398728485923601, 0.48103859872958843, 0.4625002225048469]\n",
      " Best loss : 338.5830728528874  with chromsome :  [-4.560304624939051, -0.08398728485923601, 0.48103859872958843, 0.4625002225048469]\n",
      " Best loss : 338.5830728528874  with chromsome :  [-4.560304624939051, -0.08398728485923601, 0.48103859872958843, 0.4625002225048469]\n",
      " Best loss : 338.5830728528874  with chromsome :  [-4.560304624939051, -0.08398728485923601, 0.48103859872958843, 0.4625002225048469]\n",
      " Best loss : 338.5830728528874  with chromsome :  [-4.560304624939051, -0.08398728485923601, 0.48103859872958843, 0.4625002225048469]\n",
      " Best loss : 338.5830728528874  with chromsome :  [-4.560304624939051, -0.08398728485923601, 0.48103859872958843, 0.4625002225048469]\n",
      " Best loss : 338.5830728528874  with chromsome :  [-4.560304624939051, -0.08398728485923601, 0.48103859872958843, 0.4625002225048469]\n",
      " Best loss : 338.5830728528874  with chromsome :  [-4.560304624939051, -0.08398728485923601, 0.48103859872958843, 0.4625002225048469]\n",
      " Best loss : 338.5830728528874  with chromsome :  [-4.560304624939051, -0.08398728485923601, 0.48103859872958843, 0.4625002225048469]\n",
      " Best loss : 338.5830728528874  with chromsome :  [-4.560304624939051, -0.08398728485923601, 0.48103859872958843, 0.4625002225048469]\n",
      " Best loss : 338.5830728528874  with chromsome :  [-4.560304624939051, -0.08398728485923601, 0.48103859872958843, 0.4625002225048469]\n",
      " Best loss : 338.5830728528874  with chromsome :  [-4.560304624939051, -0.08398728485923601, 0.48103859872958843, 0.4625002225048469]\n",
      " Best loss : 338.5830728528874  with chromsome :  [-4.560304624939051, -0.08398728485923601, 0.48103859872958843, 0.4625002225048469]\n",
      " Best loss : 338.5830728528874  with chromsome :  [-4.560304624939051, -0.08398728485923601, 0.48103859872958843, 0.4625002225048469]\n",
      " Best loss : 338.5830728528874  with chromsome :  [-4.560304624939051, -0.08398728485923601, 0.48103859872958843, 0.4625002225048469]\n",
      " Best loss : 338.5830728528874  with chromsome :  [-4.560304624939051, -0.08398728485923601, 0.48103859872958843, 0.4625002225048469]\n",
      " Best loss : 338.5830728528874  with chromsome :  [-4.560304624939051, -0.08398728485923601, 0.48103859872958843, 0.4625002225048469]\n",
      " Best loss : 338.5830728528874  with chromsome :  [-4.560304624939051, -0.08398728485923601, 0.48103859872958843, 0.4625002225048469]\n",
      " Best loss : 338.5830728528874  with chromsome :  [-4.560304624939051, -0.08398728485923601, 0.48103859872958843, 0.4625002225048469]\n",
      " Best loss : 338.5830728528874  with chromsome :  [-4.560304624939051, -0.08398728485923601, 0.48103859872958843, 0.4625002225048469]\n",
      " Best loss : 338.5830728528874  with chromsome :  [-4.560304624939051, -0.08398728485923601, 0.48103859872958843, 0.4625002225048469]\n",
      " Best loss : 338.5830728528874  with chromsome :  [-4.560304624939051, -0.08398728485923601, 0.48103859872958843, 0.4625002225048469]\n",
      " Best loss : 338.5830728528874  with chromsome :  [-4.560304624939051, -0.08398728485923601, 0.48103859872958843, 0.4625002225048469]\n"
     ]
    },
    {
     "data": {
      "image/png": "[encoded data removed]",
      "text/plain": [
       "<Figure size 640x480 with 1 Axes>"
      ]
     },
     "metadata": {},
     "output_type": "display_data"
    }
   ],
   "source": [
    "import matplotlib . pyplot as plt\n",
    "import matplotlib . pyplot as plt\n",
    "\n",
    "\n",
    "def visualize_loss(losses_list):\n",
    "    plt.plot(losses_list, color='green')\n",
    "    plt.xlabel('Generations')\n",
    "    plt.ylabel('Losses')\n",
    "    plt.title('Giá trị loss tốt nhất ứng với từng generation')\n",
    "    plt.grid(True)\n",
    "    plt.show()\n",
    "\n",
    "\n",
    "losses_list = run_GA()\n",
    "visualize_loss(losses_list)"
   ]
  }
 ],
 "metadata": {
  "kernelspec": {
   "display_name": "aio_2024",
   "language": "python",
   "name": "python3"
  },
  "language_info": {
   "codemirror_mode": {
    "name": "ipython",
    "version": 3
   },
   "file_extension": ".py",
   "mimetype": "text/x-python",
   "name": "python",
   "nbconvert_exporter": "python",
   "pygments_lexer": "ipython3",
   "version": "3.10.14"
  }
 },
 "nbformat": 4,
 "nbformat_minor": 2
}
